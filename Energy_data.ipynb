{
 "cells": [
  {
   "cell_type": "code",
   "execution_count": 132,
   "metadata": {},
   "outputs": [],
   "source": [
    "#import dependencies\n",
    "import os\n",
    "import pandas as pd\n",
    "import glob\n",
    "import numpy as np\n",
    "import time\n",
    "import datetime"
   ]
  },
  {
   "cell_type": "code",
   "execution_count": 106,
   "metadata": {
    "tags": []
   },
   "outputs": [],
   "source": [
    "# #I want to display the data to better understand what I am working with\n",
    "# #path = 'low_freq/house_1/'\n",
    "# #forward slash to access path and a one more slash to access the folder of the file\n",
    "# #houses 4 and 6 have air conditionong system\n",
    "# path = 'E:/Document/Master/Dataset/Energy_disaggregation/REDD_dataset/low_freq/house_1/' \n",
    "# file = path + 'channel_1.dat'\n",
    "# df = pd.read_table(file, sep= ' ')"
   ]
  },
  {
   "cell_type": "code",
   "execution_count": 133,
   "metadata": {
    "tags": []
   },
   "outputs": [
    {
     "output_type": "stream",
     "name": "stdout",
     "text": "House 4:  {1: 'mains_1', 2: 'mains_2', 3: 'lighting_3', 4: 'furance_4', 5: 'kitchen_outlets_5', 6: 'outlets_unknown_6', 7: 'washer_dryer_7', 8: 'stove_8', 9: 'air_conditioning_9', 10: 'air_conditioning_10', 11: 'miscellaeneous_11', 12: 'smoke_alarms_12', 13: 'lighting_13', 14: 'kitchen_outlets_14', 15: 'dishwaser_15', 16: 'bathroom_gfi_16', 17: 'bathroom_gfi_17', 18: 'lighting_18', 19: 'lighting_19', 20: 'air_conditioning_20'} \n\nHouse 6:  {1: 'mains_1', 2: 'mains_2', 3: 'kitchen_outlets_3', 4: 'washer_dryer_4', 5: 'stove_5', 6: 'electronics_6', 7: 'bathroom_gfi_7', 8: 'refrigerator_8', 9: 'dishwaser_9', 10: 'outlets_unknown_10', 11: 'outlets_unknown_11', 12: 'electric_heat_12', 13: 'kitchen_outlets_13', 14: 'lighting_14', 15: 'air_conditioning_15', 16: 'air_conditioning_16', 17: 'air_conditioning_17'} \n\n"
    }
   ],
   "source": [
    "def read_label():\n",
    "    label = {}\n",
    "    for i in range(1, 7):\n",
    "        hi = 'E:/Document/Master/Dataset/Energy_disaggregation/REDD_dataset/low_freq/house_{}/labels.dat'.format(i)\n",
    "        label[i] = {}\n",
    "        with open(hi) as f:\n",
    "            for line in f:\n",
    "                splitted_line = line.split(' ')\n",
    "                label[i][int(splitted_line[0])] = splitted_line[1].strip() + '_' + splitted_line[0]\n",
    "    return label\n",
    "labels = read_label()\n",
    "for i in range(4,7,2): # the third variable is to step\n",
    "    print('House {}: '.format(i), labels[i], '\\n')\n",
    "   \n",
    "\n",
    "        "
   ]
  },
  {
   "cell_type": "code",
   "execution_count": 153,
   "metadata": {},
   "outputs": [],
   "source": [
    " def read_merge_data(house):\n",
    "    path = 'E:/Document/Master/Dataset/Energy_disaggregation/REDD_dataset/low_freq/house_{}/'.format(house)\n",
    "    file = path + 'channel_1.dat'  \n",
    "    # the 'names' option is called to label the colums, unix_time for the first axis and the appliance label for the second axis\n",
    "    # dtype indicates that the first column is int64 (integer) and second column is float64 (float)\n",
    "    # It is a good practice to specify the data type when reading the dataframe (could be strings,integer etc.)\n",
    "    df = pd.read_table(file, sep = ' ', names=['unix_time', labels[house][1]],dtype={'unix_time':'int64', labels[house][1]: 'float64' })\n",
    "    num_app = len(glob.glob(path + 'channel*'))# glob returns an empty list of the searched path\n",
    "    for i in range (2, num_app + 1): # the counting starts from 2 bcus we already read channel 1 in the begining\n",
    "        file = path + 'channel_{}.dat'.format(i)\n",
    "        data = pd.read_table(file, sep= ' ', names= ['unix_time', labels[house][i]],\n",
    "                                            dtype={'unix_time':'int64', labels[house][i]:'float64'})\n",
    "        df = pd.merge(df, data, how='inner', on = 'unix_time')\n",
    "    #Convert unix_time axis to datetime and make a column out of it (appended to the last column)  \n",
    "    df['timestamp'] = df['unix_time'].astype(\"datetime64[s]\")\n",
    "    # Set the datetime column as the index(row) for the dataframe \n",
    "    df = df.set_index(df['timestamp'].values)\n",
    "    #drop unix_time and timestamp colums, from axix 1(column bcus default = 0 which is rows)\n",
    "    df.drop(['unix_time','timestamp'], axis=1, inplace=True)\n",
    "    return df\n",
    "df = {}\n",
    "for i in range (4,7,2):\n",
    "    df[i] = read_merge_data(i)\n",
    "    \n"
   ]
  },
  {
   "cell_type": "code",
   "execution_count": 159,
   "metadata": {
    "tags": []
   },
   "outputs": [
    {
     "output_type": "stream",
     "name": "stdout",
     "text": "House 4 data has shape: (428076, 20)\n"
    },
    {
     "output_type": "display_data",
     "data": {
      "text/plain": "                     mains_1  mains_2  lighting_3  furance_4  \\\n2011-04-17 01:16:32   462.31    86.58       243.0        4.0   \n2011-04-17 01:16:35   462.41    86.56       244.0        4.0   \n2011-04-17 01:16:38   462.89    86.62       243.0        5.0   \n\n                     kitchen_outlets_5  outlets_unknown_6  washer_dryer_7  \\\n2011-04-17 01:16:32                1.0                0.0             0.0   \n2011-04-17 01:16:35                0.0                0.0             0.0   \n2011-04-17 01:16:38                1.0                0.0             1.0   \n\n                     stove_8  air_conditioning_9  air_conditioning_10  \\\n2011-04-17 01:16:32      5.0                 0.0                  0.0   \n2011-04-17 01:16:35      5.0                 0.0                  0.0   \n2011-04-17 01:16:38      5.0                 0.0                  0.0   \n\n                     miscellaeneous_11  smoke_alarms_12  lighting_13  \\\n2011-04-17 01:16:32                2.0              0.0         51.0   \n2011-04-17 01:16:35                1.0              0.0         51.0   \n2011-04-17 01:16:38                2.0              0.0         51.0   \n\n                     kitchen_outlets_14  dishwaser_15  bathroom_gfi_16  \\\n2011-04-17 01:16:32               139.0           0.0              0.0   \n2011-04-17 01:16:35               138.0           0.0              0.0   \n2011-04-17 01:16:38               140.0           0.0              0.0   \n\n                     bathroom_gfi_17  lighting_18  lighting_19  \\\n2011-04-17 01:16:32              0.0         15.0          0.0   \n2011-04-17 01:16:35              0.0         15.0          0.0   \n2011-04-17 01:16:38              0.0         15.0          0.0   \n\n                     air_conditioning_20  \n2011-04-17 01:16:32                  0.0  \n2011-04-17 01:16:35                  0.0  \n2011-04-17 01:16:38                  0.0  ",
      "text/html": "<div>\n<style scoped>\n    .dataframe tbody tr th:only-of-type {\n        vertical-align: middle;\n    }\n\n    .dataframe tbody tr th {\n        vertical-align: top;\n    }\n\n    .dataframe thead th {\n        text-align: right;\n    }\n</style>\n<table border=\"1\" class=\"dataframe\">\n  <thead>\n    <tr style=\"text-align: right;\">\n      <th></th>\n      <th>mains_1</th>\n      <th>mains_2</th>\n      <th>lighting_3</th>\n      <th>furance_4</th>\n      <th>kitchen_outlets_5</th>\n      <th>outlets_unknown_6</th>\n      <th>washer_dryer_7</th>\n      <th>stove_8</th>\n      <th>air_conditioning_9</th>\n      <th>air_conditioning_10</th>\n      <th>miscellaeneous_11</th>\n      <th>smoke_alarms_12</th>\n      <th>lighting_13</th>\n      <th>kitchen_outlets_14</th>\n      <th>dishwaser_15</th>\n      <th>bathroom_gfi_16</th>\n      <th>bathroom_gfi_17</th>\n      <th>lighting_18</th>\n      <th>lighting_19</th>\n      <th>air_conditioning_20</th>\n    </tr>\n  </thead>\n  <tbody>\n    <tr>\n      <th>2011-04-17 01:16:32</th>\n      <td>462.31</td>\n      <td>86.58</td>\n      <td>243.0</td>\n      <td>4.0</td>\n      <td>1.0</td>\n      <td>0.0</td>\n      <td>0.0</td>\n      <td>5.0</td>\n      <td>0.0</td>\n      <td>0.0</td>\n      <td>2.0</td>\n      <td>0.0</td>\n      <td>51.0</td>\n      <td>139.0</td>\n      <td>0.0</td>\n      <td>0.0</td>\n      <td>0.0</td>\n      <td>15.0</td>\n      <td>0.0</td>\n      <td>0.0</td>\n    </tr>\n    <tr>\n      <th>2011-04-17 01:16:35</th>\n      <td>462.41</td>\n      <td>86.56</td>\n      <td>244.0</td>\n      <td>4.0</td>\n      <td>0.0</td>\n      <td>0.0</td>\n      <td>0.0</td>\n      <td>5.0</td>\n      <td>0.0</td>\n      <td>0.0</td>\n      <td>1.0</td>\n      <td>0.0</td>\n      <td>51.0</td>\n      <td>138.0</td>\n      <td>0.0</td>\n      <td>0.0</td>\n      <td>0.0</td>\n      <td>15.0</td>\n      <td>0.0</td>\n      <td>0.0</td>\n    </tr>\n    <tr>\n      <th>2011-04-17 01:16:38</th>\n      <td>462.89</td>\n      <td>86.62</td>\n      <td>243.0</td>\n      <td>5.0</td>\n      <td>1.0</td>\n      <td>0.0</td>\n      <td>1.0</td>\n      <td>5.0</td>\n      <td>0.0</td>\n      <td>0.0</td>\n      <td>2.0</td>\n      <td>0.0</td>\n      <td>51.0</td>\n      <td>140.0</td>\n      <td>0.0</td>\n      <td>0.0</td>\n      <td>0.0</td>\n      <td>15.0</td>\n      <td>0.0</td>\n      <td>0.0</td>\n    </tr>\n  </tbody>\n</table>\n</div>"
     },
     "metadata": {}
    },
    {
     "output_type": "stream",
     "name": "stdout",
     "text": "House 6 data has shape: (192192, 17)\n"
    },
    {
     "output_type": "display_data",
     "data": {
      "text/plain": "                     mains_1  mains_2  kitchen_outlets_3  washer_dryer_4  \\\n2011-05-21 19:39:51    46.78   255.62                5.0             2.0   \n2011-05-21 19:39:57    46.92   257.48                5.0             3.0   \n2011-05-21 19:40:00    46.82   255.07                5.0             3.0   \n\n                     stove_5  electronics_6  bathroom_gfi_7  refrigerator_8  \\\n2011-05-21 19:39:51      3.0            0.0             3.0             1.0   \n2011-05-21 19:39:57      2.0            0.0             3.0             0.0   \n2011-05-21 19:40:00      2.0            0.0             4.0             0.0   \n\n                     dishwaser_9  outlets_unknown_10  outlets_unknown_11  \\\n2011-05-21 19:39:51          0.0                 0.0                26.0   \n2011-05-21 19:39:57          0.0                 0.0                27.0   \n2011-05-21 19:40:00          0.0                 0.0                27.0   \n\n                     electric_heat_12  kitchen_outlets_13  lighting_14  \\\n2011-05-21 19:39:51              88.0                 0.0        124.0   \n2011-05-21 19:39:57              94.0                 1.0        116.0   \n2011-05-21 19:40:00              95.0                 0.0        116.0   \n\n                     air_conditioning_15  air_conditioning_16  \\\n2011-05-21 19:39:51                  4.0                  0.0   \n2011-05-21 19:39:57                  4.0                  0.0   \n2011-05-21 19:40:00                  4.0                  0.0   \n\n                     air_conditioning_17  \n2011-05-21 19:39:51                  0.0  \n2011-05-21 19:39:57                  0.0  \n2011-05-21 19:40:00                  0.0  ",
      "text/html": "<div>\n<style scoped>\n    .dataframe tbody tr th:only-of-type {\n        vertical-align: middle;\n    }\n\n    .dataframe tbody tr th {\n        vertical-align: top;\n    }\n\n    .dataframe thead th {\n        text-align: right;\n    }\n</style>\n<table border=\"1\" class=\"dataframe\">\n  <thead>\n    <tr style=\"text-align: right;\">\n      <th></th>\n      <th>mains_1</th>\n      <th>mains_2</th>\n      <th>kitchen_outlets_3</th>\n      <th>washer_dryer_4</th>\n      <th>stove_5</th>\n      <th>electronics_6</th>\n      <th>bathroom_gfi_7</th>\n      <th>refrigerator_8</th>\n      <th>dishwaser_9</th>\n      <th>outlets_unknown_10</th>\n      <th>outlets_unknown_11</th>\n      <th>electric_heat_12</th>\n      <th>kitchen_outlets_13</th>\n      <th>lighting_14</th>\n      <th>air_conditioning_15</th>\n      <th>air_conditioning_16</th>\n      <th>air_conditioning_17</th>\n    </tr>\n  </thead>\n  <tbody>\n    <tr>\n      <th>2011-05-21 19:39:51</th>\n      <td>46.78</td>\n      <td>255.62</td>\n      <td>5.0</td>\n      <td>2.0</td>\n      <td>3.0</td>\n      <td>0.0</td>\n      <td>3.0</td>\n      <td>1.0</td>\n      <td>0.0</td>\n      <td>0.0</td>\n      <td>26.0</td>\n      <td>88.0</td>\n      <td>0.0</td>\n      <td>124.0</td>\n      <td>4.0</td>\n      <td>0.0</td>\n      <td>0.0</td>\n    </tr>\n    <tr>\n      <th>2011-05-21 19:39:57</th>\n      <td>46.92</td>\n      <td>257.48</td>\n      <td>5.0</td>\n      <td>3.0</td>\n      <td>2.0</td>\n      <td>0.0</td>\n      <td>3.0</td>\n      <td>0.0</td>\n      <td>0.0</td>\n      <td>0.0</td>\n      <td>27.0</td>\n      <td>94.0</td>\n      <td>1.0</td>\n      <td>116.0</td>\n      <td>4.0</td>\n      <td>0.0</td>\n      <td>0.0</td>\n    </tr>\n    <tr>\n      <th>2011-05-21 19:40:00</th>\n      <td>46.82</td>\n      <td>255.07</td>\n      <td>5.0</td>\n      <td>3.0</td>\n      <td>2.0</td>\n      <td>0.0</td>\n      <td>4.0</td>\n      <td>0.0</td>\n      <td>0.0</td>\n      <td>0.0</td>\n      <td>27.0</td>\n      <td>95.0</td>\n      <td>0.0</td>\n      <td>116.0</td>\n      <td>4.0</td>\n      <td>0.0</td>\n      <td>0.0</td>\n    </tr>\n  </tbody>\n</table>\n</div>"
     },
     "metadata": {}
    }
   ],
   "source": [
    "for i in range (4,7,2):\n",
    "    print ('House {} data has shape:'.format(i), df[i].shape)\n",
    "    display(df[i].head(3))"
   ]
  },
  {
   "cell_type": "code",
   "execution_count": 196,
   "metadata": {
    "tags": []
   },
   "outputs": [
    {
     "output_type": "stream",
     "name": "stdout",
     "text": "House 4 data contains 26 days from 2011-04-17 to 2011-06-04\nHouse 6 data contains 17 days from 2011-05-21 to 2011-06-14\n"
    }
   ],
   "source": [
    "#Get the date the data were collected\n",
    "date = {}\n",
    "for i in range (4,7,2):\n",
    "    date[i] = [str(time)[:10] for time in df[i].index.values]# returns the series of the index\n",
    "    date[i] = sorted(list(set(date[i])))\n",
    "    print ('House {0} data contains {1} days from {2} to {3}'.format(i,len(date[i]),date[i][0],date[i][-1]))\n",
    "    #print(date[i],'\\n')\n",
    "    \n"
   ]
  },
  {
   "cell_type": "code",
   "execution_count": null,
   "metadata": {},
   "outputs": [],
   "source": []
  }
 ],
 "metadata": {
  "language_info": {
   "codemirror_mode": {
    "name": "ipython",
    "version": 3
   },
   "file_extension": ".py",
   "mimetype": "text/x-python",
   "name": "python",
   "nbconvert_exporter": "python",
   "pygments_lexer": "ipython3",
   "version": "3.7.6-final"
  },
  "orig_nbformat": 2,
  "kernelspec": {
   "name": "python3",
   "display_name": "Python 3"
  }
 },
 "nbformat": 4,
 "nbformat_minor": 2
}