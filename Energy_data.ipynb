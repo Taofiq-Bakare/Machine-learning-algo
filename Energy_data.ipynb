{
 "cells": [
  {
   "cell_type": "code",
   "execution_count": 42,
   "metadata": {},
   "outputs": [],
   "source": [
    "#import dependencies\n",
    "import os\n",
    "import pandas as pd\n",
    "import glob"
   ]
  },
  {
   "cell_type": "code",
   "execution_count": 45,
   "metadata": {
    "tags": []
   },
   "outputs": [
    {
     "output_type": "error",
     "ename": "NameError",
     "evalue": "name 'house' is not defined",
     "traceback": [
      "\u001b[1;31m---------------------------------------------------------------------------\u001b[0m",
      "\u001b[1;31mNameError\u001b[0m                                 Traceback (most recent call last)",
      "\u001b[1;32m<ipython-input-45-883085a0efb3>\u001b[0m in \u001b[0;36m<module>\u001b[1;34m\u001b[0m\n\u001b[0;32m      4\u001b[0m \u001b[0mpath\u001b[0m \u001b[1;33m=\u001b[0m \u001b[1;34m'E:/Document/Master/Dataset/Energy_disaggregation/REDD_dataset/low_freq/house_1/'\u001b[0m\u001b[1;33m\u001b[0m\u001b[1;33m\u001b[0m\u001b[0m\n\u001b[0;32m      5\u001b[0m \u001b[0mfile\u001b[0m \u001b[1;33m=\u001b[0m \u001b[0mpath\u001b[0m \u001b[1;33m+\u001b[0m \u001b[1;34m'channel_1.dat'\u001b[0m\u001b[1;33m\u001b[0m\u001b[1;33m\u001b[0m\u001b[0m\n\u001b[1;32m----> 6\u001b[1;33m df = pd.read_table(file, sep = ' ', names = ['unix_time', labels[house][1]], \n\u001b[0m\u001b[0;32m      7\u001b[0m                                        dtype = {'unix_time': 'int64', labels[house][1]:'float64'}) \n",
      "\u001b[1;31mNameError\u001b[0m: name 'house' is not defined"
     ]
    }
   ],
   "source": [
    "#I want to display the data to better understand what I am working with\n",
    "#path = 'low_freq/house_1/'\n",
    "#forward slash to access path and a one more slash to access the folder of the file\n",
    "#house 4 and 6has air conditionong system\n",
    "path = 'E:/Document/Master/Dataset/Energy_disaggregation/REDD_dataset/low_freq/house_1/' \n",
    "file = path + 'channel_1.dat'\n",
    "df = pd.read_table(file, sep= ' ')"
   ]
  },
  {
   "cell_type": "code",
   "execution_count": 44,
   "metadata": {},
   "outputs": [
    {
     "output_type": "execute_result",
     "data": {
      "text/plain": "   1303132929  224.19\n0  1303132930  225.57\n1  1303132931  226.09\n2  1303132932  222.74\n3  1303132933  222.20\n4  1303132934  222.11",
      "text/html": "<div>\n<style scoped>\n    .dataframe tbody tr th:only-of-type {\n        vertical-align: middle;\n    }\n\n    .dataframe tbody tr th {\n        vertical-align: top;\n    }\n\n    .dataframe thead th {\n        text-align: right;\n    }\n</style>\n<table border=\"1\" class=\"dataframe\">\n  <thead>\n    <tr style=\"text-align: right;\">\n      <th></th>\n      <th>1303132929</th>\n      <th>224.19</th>\n    </tr>\n  </thead>\n  <tbody>\n    <tr>\n      <th>0</th>\n      <td>1303132930</td>\n      <td>225.57</td>\n    </tr>\n    <tr>\n      <th>1</th>\n      <td>1303132931</td>\n      <td>226.09</td>\n    </tr>\n    <tr>\n      <th>2</th>\n      <td>1303132932</td>\n      <td>222.74</td>\n    </tr>\n    <tr>\n      <th>3</th>\n      <td>1303132933</td>\n      <td>222.20</td>\n    </tr>\n    <tr>\n      <th>4</th>\n      <td>1303132934</td>\n      <td>222.11</td>\n    </tr>\n  </tbody>\n</table>\n</div>"
     },
     "metadata": {},
     "execution_count": 44
    }
   ],
   "source": [
    "df.head()"
   ]
  },
  {
   "cell_type": "code",
   "execution_count": null,
   "metadata": {},
   "outputs": [],
   "source": []
  }
 ],
 "metadata": {
  "language_info": {
   "codemirror_mode": {
    "name": "ipython",
    "version": 3
   },
   "file_extension": ".py",
   "mimetype": "text/x-python",
   "name": "python",
   "nbconvert_exporter": "python",
   "pygments_lexer": "ipython3",
   "version": "3.7.6-final"
  },
  "orig_nbformat": 2,
  "kernelspec": {
   "name": "python3",
   "display_name": "Python 3"
  }
 },
 "nbformat": 4,
 "nbformat_minor": 2
}