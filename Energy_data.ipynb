{
 "cells": [
  {
   "cell_type": "code",
   "execution_count": 47,
   "metadata": {},
   "outputs": [],
   "source": [
    "#import dependencies\n",
    "import os\n",
    "import pandas as pd\n",
    "import glob"
   ]
  },
  {
   "cell_type": "code",
   "execution_count": 48,
   "metadata": {
    "tags": []
   },
   "outputs": [],
   "source": [
    "#I want to display the data to better understand what I am working with\n",
    "#path = 'low_freq/house_1/'\n",
    "#forward slash to access path and a one more slash to access the folder of the file\n",
    "#house 4 and 6has air conditionong system\n",
    "path = 'E:/Document/Master/Dataset/Energy_disaggregation/REDD_dataset/low_freq/house_1/' \n",
    "file = path + 'channel_1.dat'\n",
    "df = pd.read_table(file, sep= ' ')"
   ]
  },
  {
   "cell_type": "code",
   "execution_count": 49,
   "metadata": {},
   "outputs": [
    {
     "output_type": "execute_result",
     "data": {
      "text/plain": "   1303132929  224.19\n0  1303132930  225.57\n1  1303132931  226.09\n2  1303132932  222.74\n3  1303132933  222.20\n4  1303132934  222.11",
      "text/html": "<div>\n<style scoped>\n    .dataframe tbody tr th:only-of-type {\n        vertical-align: middle;\n    }\n\n    .dataframe tbody tr th {\n        vertical-align: top;\n    }\n\n    .dataframe thead th {\n        text-align: right;\n    }\n</style>\n<table border=\"1\" class=\"dataframe\">\n  <thead>\n    <tr style=\"text-align: right;\">\n      <th></th>\n      <th>1303132929</th>\n      <th>224.19</th>\n    </tr>\n  </thead>\n  <tbody>\n    <tr>\n      <th>0</th>\n      <td>1303132930</td>\n      <td>225.57</td>\n    </tr>\n    <tr>\n      <th>1</th>\n      <td>1303132931</td>\n      <td>226.09</td>\n    </tr>\n    <tr>\n      <th>2</th>\n      <td>1303132932</td>\n      <td>222.74</td>\n    </tr>\n    <tr>\n      <th>3</th>\n      <td>1303132933</td>\n      <td>222.20</td>\n    </tr>\n    <tr>\n      <th>4</th>\n      <td>1303132934</td>\n      <td>222.11</td>\n    </tr>\n  </tbody>\n</table>\n</div>"
     },
     "metadata": {},
     "execution_count": 49
    }
   ],
   "source": [
    "df.head()"
   ]
  },
  {
   "cell_type": "code",
   "execution_count": null,
   "metadata": {},
   "outputs": [],
   "source": []
  }
 ],
 "metadata": {
  "language_info": {
   "codemirror_mode": {
    "name": "ipython",
    "version": 3
   },
   "file_extension": ".py",
   "mimetype": "text/x-python",
   "name": "python",
   "nbconvert_exporter": "python",
   "pygments_lexer": "ipython3",
   "version": "3.7.6-final"
  },
  "orig_nbformat": 2,
  "kernelspec": {
   "name": "python3",
   "display_name": "Python 3"
  }
 },
 "nbformat": 4,
 "nbformat_minor": 2
}