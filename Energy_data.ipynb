{
 "cells": [
  {
   "cell_type": "code",
   "execution_count": 35,
   "metadata": {},
   "outputs": [],
   "source": [
    "#import dependencies\n",
    "import os\n",
    "import pandas as pd\n",
    "import glob"
   ]
  },
  {
   "cell_type": "code",
   "execution_count": 40,
   "metadata": {
    "tags": []
   },
   "outputs": [
    {
     "output_type": "stream",
     "name": "stdout",
     "text": "1303132929  224.19\n0        1303132930  225.57\n1        1303132931  226.09\n2        1303132932  222.74\n3        1303132933  222.20\n4        1303132934  222.11\n...             ...     ...\n1561654  1306267018  234.44\n1561655  1306267019  235.57\n1561656  1306267020  234.77\n1561657  1306267021  235.55\n1561658  1306267022  235.43\n\n[1561659 rows x 2 columns]\n"
    }
   ],
   "source": [
    "#I want to display the data to better understand what I am working with\n",
    "#path = 'low_freq/house_1/'\n",
    "#forward slash to access path and a one more slash to access the folder of the file\n",
    "path = 'E:/Document/Master/Dataset/Energy_disaggregation/REDD_dataset/low_freq/house_1/' \n",
    "file = path + 'channel_1.dat'\n",
    "df = pd.read_table(file, sep= ' ')\n",
    "print(df)"
   ]
  },
  {
   "cell_type": "code",
   "execution_count": 37,
   "metadata": {},
   "outputs": [],
   "source": []
  },
  {
   "cell_type": "code",
   "execution_count": null,
   "metadata": {},
   "outputs": [],
   "source": []
  }
 ],
 "metadata": {
  "language_info": {
   "codemirror_mode": {
    "name": "ipython",
    "version": 3
   },
   "file_extension": ".py",
   "mimetype": "text/x-python",
   "name": "python",
   "nbconvert_exporter": "python",
   "pygments_lexer": "ipython3",
   "version": "3.7.6-final"
  },
  "orig_nbformat": 2,
  "kernelspec": {
   "name": "python3",
   "display_name": "Python 3"
  }
 },
 "nbformat": 4,
 "nbformat_minor": 2
}